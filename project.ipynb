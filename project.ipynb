{
 "cells": [
  {
   "cell_type": "markdown",
   "id": "cf86d062",
   "metadata": {},
   "source": [
    "# Exploring Deutsch's Algorithm"
   ]
  },
  {
   "cell_type": "markdown",
   "id": "99e987e6",
   "metadata": {},
   "source": [
    "\n",
    "## Introduction\n",
    "Deutsch's Algorithm is a fundamental quantum computing algorithm. It serves as one of the first examples of a quantum algorithm that performs better than any classical counterpart. This algorithm is designed to solve a specific problem in the quantum computing domain, showcasing the power of quantum superposition and interference.\n",
    "\n",
    "\n",
    "### The Problem\n",
    "The problem addressed by Deutsch's Algorithm involves a function `f(x)` that takes a binary input (0 or 1) and produces a binary output (0 or 1). There are four possible functions of this type:\n",
    "\n",
    "1. The constant function that always returns 0.\n",
    "2. The constant function that always returns 1.\n",
    "3. The balanced function that returns 0 for input 0 and 1 for input 1.\n",
    "4. The balanced function that returns 1 for input 0 and 0 for input 1.\n",
    "\n",
    "The challenge is to determine whether the given function `f(x)` is constant (the same output for all inputs) or balanced (different output for each input) by using the function only once. \n",
    "\n",
    "### Deutsch's Algorithm\n",
    "Deutsch's Algorithm provides a quantum solution to this problem. It utilizes the principles of quantum superposition, entanglement, and interference to determine the nature of the function with a single query, which is impossible in the classical computing paradigm.\n"
   ]
  },
  {
   "cell_type": "markdown",
   "id": "77d71fe3",
   "metadata": {},
   "source": [
    "## What is Quantum Computing ? \n",
    "\n",
    "Quantum computing is a type of computing that leverages phenomena from quantum mechanics, such as superposition and entanglement, to process information. In contrast to traditional computers that use bits as the fundamental units of data (where each bit is either a 0 or a 1), quantum computers utilize quantum bits, or qubits.\n",
    "\n",
    "<img src=\"./Images/bits_qbits.jpg\" alt=\"Alternative text\" width=400 height=400 />\n",
    "\n",
    "Above is a visual comparison of a bit and a qubit. A bit can only be in one state at any given time—either 0 or 1. Meanwhile, a qubit can be in multiple states at once thanks to superposition. This capability allows quantum computers to handle a vast array of possibilities concurrently, vastly increasing their computing power.\n",
    "\n",
    "Qubits can be entangled, which means the state of one qubit is dependent on the state of another, regardless of the distance between them. This interconnection can lead to a significant increase in computing power. For instance, when two particles like a pair of photons or electrons become entangled, they maintain a connection even when separated by vast distances. Actions performed on one particle can instantaneously influence the other, a phenomenon that seems to defy the need for signals to travel at the speed of light, as proposed by the theory of relativity.\n",
    "\n",
    "\n",
    "Quantum gates are the basic building blocks of quantum circuits, much like classical logic gates are for conventional digital circuits. However, unlike classical gates, quantum gates manipulate qubits through quantum operations such as superpostition and entaglement.\n",
    "\n",
    "**Reversibility:** Most quantum gates are reversible, which means they can be undone. This is different from many classical gates, like the AND or OR gate, which lose some input information. In quantum computing, for every unique input, there is a unique output.\n",
    "\n",
    "**Common Gates:** Some of the basic quantum gates include:\n",
    "\n",
    "**Pauli gates (X, Y, Z):** These are the quantum equivalent of the classical NOT gate but also include rotations of the qubit state around different axes of the Bloch sphere.\n",
    "\n",
    "**Hadamard gate (H):** It creates a superposition state from a definite initial state, essentially putting the qubit into a state that is equally '0' and '1'.\n",
    "**Controlled gates (CNOT):** These gates entangle two qubits, flipping the second qubit (target) if the first qubit (control) is in the state '1'.\n"
   ]
  },
  {
   "cell_type": "code",
   "execution_count": 1,
   "id": "f3acfa7a",
   "metadata": {},
   "outputs": [
    {
     "data": {
      "image/png": "[encoded data removed]",
      "text/plain": [
       "<Figure size 454.517x200.667 with 1 Axes>"
      ]
     },
     "execution_count": 1,
     "metadata": {},
     "output_type": "execute_result"
    }
   ],
   "source": [
    "from qiskit import QuantumCircuit\n",
    "\n",
    "# Define a quantum circuit with 2 qubits\n",
    "qc = QuantumCircuit(2)\n",
    "\n",
    "#  Pauli-X gate \n",
    "qc.x(0)\n",
    "\n",
    "# Pauli-Y gate \n",
    "qc.y(0)\n",
    "\n",
    "# Pauli-Z gate \n",
    "qc.z(0)\n",
    "\n",
    "#Hadamard gate\n",
    "qc.h(1)\n",
    "\n",
    "# CNOT gate \n",
    "qc.cx(0, 1)\n",
    "\n",
    "# Visualize the circuit\n",
    "qc.draw('mpl')\n"
   ]
  },
  {
   "cell_type": "markdown",
   "id": "59a4874d",
   "metadata": {},
   "source": [
    "## Example"
   ]
  },
  {
   "cell_type": "code",
   "execution_count": 2,
   "id": "bd9db9b6",
   "metadata": {},
   "outputs": [
    {
     "name": "stdout",
     "output_type": "stream",
     "text": [
      "     ┌───┐┌──────────────┐┌───┐┌─┐\n",
      "q_0: ┤ H ├┤0             ├┤ H ├┤M├\n",
      "     ├───┤│  circuit-138 │└───┘└╥┘\n",
      "q_1: ┤ H ├┤1             ├──────╫─\n",
      "     └───┘└──────────────┘      ║ \n",
      "c: 1/═══════════════════════════╩═\n",
      "                                0 \n"
     ]
    }
   ],
   "source": [
    "from qiskit import QuantumCircuit, Aer, execute\n",
    "from qiskit.visualization import plot_histogram\n",
    "\n",
    "# Function to create a quantum circuit for Deutsch's algorithm\n",
    "def deutsch_algorithm(oracle):\n",
    "    # Create a 2-qubit quantum circuit\n",
    "    circuit = QuantumCircuit(2, 1)\n",
    "\n",
    "    # Apply a Hadamard gate to both qubits\n",
    "    circuit.h(0)\n",
    "    circuit.h(1)\n",
    "\n",
    "    # Apply the oracle\n",
    "    circuit.append(oracle, [0, 1])\n",
    "\n",
    "    # Apply another Hadamard gate to the first qubit\n",
    "    circuit.h(0)\n",
    "\n",
    "    # Measure the first qubit\n",
    "    circuit.measure(0, 0)\n",
    "\n",
    "    return circuit\n",
    "\n",
    "balanced_oracle = QuantumCircuit(2)\n",
    "balanced_oracle.cx(0, 1)\n",
    "\n",
    "constant_oracle = QuantumCircuit(2)\n",
    "\n",
    "oracle = balanced_oracle\n",
    "\n",
    "circuit = deutsch_algorithm(oracle)\n",
    "\n",
    "# Print the circuit in ASCII art\n",
    "print(circuit.draw(output='text'))\n"
   ]
  },
  {
   "cell_type": "code",
   "execution_count": 1,
   "metadata": {},
   "outputs": [
    {
     "name": "stdout",
     "output_type": "stream",
     "text": [
      "{'0': 1024}\n"
     ]
    },
    {
     "data": {
      "image/png": "[encoded data removed]",
      "text/plain": [
       "<Figure size 700x500 with 1 Axes>"
      ]
     },
     "execution_count": 1,
     "metadata": {},
     "output_type": "execute_result"
    }
   ],
   "source": [
    "from qiskit import QuantumCircuit, Aer, execute\n",
    "from qiskit.visualization import plot_histogram\n",
    "\n",
    "from qiskit import QuantumCircuit, Aer, execute\n",
    "from qiskit.visualization import plot_histogram\n",
    "\n",
    "# Function to create a quantum circuit for Deutsch's algorithm\n",
    "def deutsch_algorithm(oracle):\n",
    "    # Create a 2-qubit quantum circuit\n",
    "    circuit = QuantumCircuit(2, 1)\n",
    "\n",
    "    # Apply a Hadamard gate to both qubits\n",
    "    circuit.h(0)\n",
    "    circuit.h(1)\n",
    "\n",
    "    # Apply the oracle\n",
    "    circuit.append(oracle, [0, 1])\n",
    "\n",
    "    # Apply another Hadamard gate to the first qubit\n",
    "    circuit.h(0)\n",
    "\n",
    "    # Measure the first qubit\n",
    "    circuit.measure(0, 0)\n",
    "\n",
    "    return circuit\n",
    "\n",
    "balanced_oracle = QuantumCircuit(2)\n",
    "balanced_oracle.cx(0, 1)\n",
    "\n",
    "oracle = balanced_oracle\n",
    "\n",
    "circuit = deutsch_algorithm(oracle)\n",
    "\n",
    "circuit = deutsch_algorithm(oracle)\n",
    "\n",
    "# Use the Aer's statevector simulator\n",
    "simulator = Aer.get_backend('qasm_simulator')\n",
    "\n",
    "job = execute(circuit, simulator, shots=1024)\n",
    "\n",
    "result = job.result()\n",
    "\n",
    "counts = result.get_counts(circuit)\n",
    "\n",
    "print(counts)\n",
    "\n",
    "# Display a histogram of the results\n",
    "plot_histogram(counts)\n"
   ]
  },
  {
   "cell_type": "markdown",
   "metadata": {},
   "source": [
    "### Quantum Circuit Setup\n",
    "The `deutsch_algorithm` function creates a 2-qubit quantum circuit. In Deutsch's algorithm, one qubit is used as the input to the oracle, and the other qubit is used as an ancillary qubit.\n",
    "\n",
    "### Hadamard Gates\n",
    "The circuit applies Hadamard gates to both qubits. The Hadamard gate (denoted as `H`) creates a superposition of states, meaning each qubit is in a state that is both 0 and 1 simultaneously.\n",
    "\n",
    "### Oracle Application\n",
    "The circuit then applies the oracle. The oracle is a black box that implements the function being tested (either constant or balanced). In your example, two oracles are defined: `balanced_oracle`, which uses a CNOT gate (denoted as `cx`) to create a balanced function, and `constant_oracle`, which does nothing, representing a constant function.\n",
    "\n",
    "### Second Hadamard Gate\n",
    "Another Hadamard gate is applied to the first qubit. This step is crucial as it interferes the states in a way that the measurement will reveal information about the nature of the function.\n",
    "\n",
    "### Measurement\n",
    "Finally, the first qubit is measured. The result of this measurement tells us whether the function implemented by the oracle is constant or balanced. In a classical setting, this would require multiple queries to the function, but quantum parallelism allows it to be done in a single query using Deutsch's algorithm.\n",
    "\n",
    "### Execution on Quantum Simulator\n",
    "After setting up the circuit, it is executed on a quantum simulator. This is done using Qiskit's Aer module, specifically the `'qasm_simulator'` backend, which simulates a quantum computer capable of performing measurements.\n",
    "\n",
    "The execution is typically performed with multiple shots (e.g., 1024), which means the experiment (the entire circuit including the measurement) is repeated several times. This repetition is necessary because quantum measurements can have probabilistic outcomes.\n",
    "\n",
    "After the execution, the results are collected, and the counts of each outcome are analyzed. These counts indicate how many times each possible measurement result was observed. This data is then used to determine whether the function implemented by the oracle is constant or balanced. A histogram of these counts can also be displayed for visual analysis.\n",
    "\n",
    "In the case of Deutsch's algorithm, for a constant function, you would expect to see all measurements collapsing to one value (either all 0s or all 1s). For a balanced function, there would be a split in the measurement outcomes.\n",
    "\n"
   ]
  },
  {
   "cell_type": "markdown",
   "metadata": {},
   "source": [
    "## Advantages and disadvatages of the problem and quantum computing\n",
    "\n",
    "**Computational Advantages:** \n",
    "\n",
    "**Speed** Deutsch's Algorithm can solve the Deutsch-Jozsa problem in a single query, while the best classical algorithm requires two queries. This means that Deutsch's Algorithm can be a significant improvement in efficiency for certain problems.\n",
    "\n",
    "**Efficiency** Quantum computers can perform computations in parallel(Two or more at the same time), while classical computers are limited to serial computations(One after another). This means that quantum computers can potentially solve problems that would take classical computers an impractical amount of time.\n",
    "\n",
    "**Computational Disadvantages:** \n",
    "\n",
    "**Fault Tolerance** Quantum computing is much susceptible to errors compared to classical computers this is because quantum noise can disrupt the state of qubits. Quantum noise is essentially disrupting the smooth operation of the system.\n",
    "\n",
    "**Scaling** Each qubit added to the system increases its complexity which can become difficult to manage and it can increase the fragility of the system\n",
    "\n"
   ]
  },
  {
   "cell_type": "markdown",
   "id": "7d2185f0",
   "metadata": {},
   "source": [
    "## Expanded Explanation of the Problem\n",
    "\n",
    "A key aspect of the problem to understand is that it is an abstract problem, in other words it is specifically  for the purpose to demonstrate the unique capabilities of quantum computers and does not solve any real world problems.\n",
    "\n",
    "**Quantum Superposition and Interference:** It showcases how quantum superposition and interference can be harnessed to solve a problem in a way that is fundamentally different from classical computing approaches.\n",
    "\n",
    "**Quantum Computing Principles:** The algorithm is a simple  demonstration of the principles of quantum computing. It helps in understanding how quantum states can be manipulated and observed to obtain information that would be less accessible through classical means.\n",
    "\n",
    "**Educational Tool:** In educational contexts, Deutsch's Algorithm is often used to introduce students and researchers to quantum computing. It's an entry point for understanding more complex quantum algorithms.\n",
    "\n",
    "**Basis for Advanced Algorithms:** While the problem Deutsch's Algorithm solves is abstract, the principles it demonstrates are foundational for more complex and practical quantum algorithms, such as Grover's algorithm for database searching and Shor's algorithm for integer factorization, which have more direct applications."
   ]
  },
  {
   "cell_type": "markdown",
   "id": "ab3764a0",
   "metadata": {},
   "source": [
    "Refrences:\n",
    "https://scienceexchange.caltech.edu/topics/quantum-science-explained/entanglement\n",
    "\n",
    "https://scienceexchange.caltech.edu/topics/quantum-science-explained/quantum-superposition\n",
    "\n",
    "https://qiskit.org/ecosystem/aer/index.html\n",
    "\n",
    "https://jan-czechowski.medium.com/implementing-deutschs-algorithm-in-qiskit-and-cirq-48949d60e59d"
   ]
  }
 ],
 "metadata": {
  "kernelspec": {
   "display_name": "base",
   "language": "python",
   "name": "python3"
  },
  "language_info": {
   "codemirror_mode": {
    "name": "ipython",
    "version": 3
   },
   "file_extension": ".py",
   "mimetype": "text/x-python",
   "name": "python",
   "nbconvert_exporter": "python",
   "pygments_lexer": "ipython3",
   "version": "3.11.5"
  }
 },
 "nbformat": 4,
 "nbformat_minor": 5
}
