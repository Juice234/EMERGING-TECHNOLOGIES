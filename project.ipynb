{
 "cells": [
  {
   "cell_type": "markdown",
   "id": "cf86d062",
   "metadata": {},
   "source": [
    "# Exploring Deutsch's Algorithm"
   ]
  },
  {
   "cell_type": "markdown",
   "id": "99e987e6",
   "metadata": {},
   "source": [
    "\n",
    "## Introduction\n",
    "Deutsch's Algorithm is a fundamental quantum computing algorithm. It serves as one of the first examples of a quantum algorithm that performs better than any classical counterpart. This algorithm is designed to solve a specific problem in the quantum computing domain, showcasing the power of quantum superposition and interference.\n",
    "\n",
    "### The Problem\n",
    "The problem addressed by Deutsch's Algorithm involves a function `f(x)` that takes a binary input (0 or 1) and produces a binary output (0 or 1). There are four possible functions of this type:\n",
    "\n",
    "1. The constant function that always returns 0.\n",
    "2. The constant function that always returns 1.\n",
    "3. The balanced function that returns 0 for input 0 and 1 for input 1.\n",
    "4. The balanced function that returns 1 for input 0 and 0 for input 1.\n",
    "\n",
    "The challenge is to determine whether the given function `f(x)` is constant (the same output for all inputs) or balanced (different output for each input) by using the function only once. \n",
    "\n",
    "### Deutsch's Algorithm\n",
    "Deutsch's Algorithm provides a quantum solution to this problem. It utilizes the principles of quantum superposition, entanglement, and interference to determine the nature of the function with a single query, which is impossible in the classical computing paradigm.\n",
    "\n",
    "In the following sections, we will dive into the details of Deutsch's Algorithm, including its quantum circuit, the mathematics behind it, and how it solves the stated problem.\n"
   ]
  },
  {
   "cell_type": "markdown",
   "id": "59a4874d",
   "metadata": {},
   "source": [
    "## Example"
   ]
  },
  {
   "cell_type": "code",
   "execution_count": 3,
   "id": "bd9db9b6",
   "metadata": {},
   "outputs": [
    {
     "data": {
      "image/png": "[encoded data removed]",
      "text/plain": [
       "<Figure size 700x500 with 1 Axes>"
      ]
     },
     "execution_count": 3,
     "metadata": {},
     "output_type": "execute_result"
    }
   ],
   "source": [
    "from qiskit import QuantumCircuit, Aer, execute\n",
    "from qiskit.visualization import plot_histogram\n",
    "\n",
    "# Function to create a quantum circuit for Deutsch's algorithm\n",
    "def deutsch_algorithm(oracle):\n",
    "    # Create a 2-qubit quantum circuit\n",
    "    qc = QuantumCircuit(2, 1)\n",
    "\n",
    "    # Apply a Hadamard gate to both qubits\n",
    "    qc.h(0)\n",
    "    qc.h(1)\n",
    "\n",
    "    # Apply the oracle\n",
    "    qc.append(oracle, [0, 1])\n",
    "\n",
    "    # Apply another Hadamard gate to the first qubit\n",
    "    qc.h(0)\n",
    "\n",
    "    # Measure the first qubit\n",
    "    qc.measure(0, 0)\n",
    "\n",
    "    return qc\n",
    "\n",
    "# Example oracles\n",
    "# Constant oracle\n",
    "constant_oracle = QuantumCircuit(2)\n",
    "# Uncomment the next line for a different constant oracle\n",
    "# constant_oracle.x(1) \n",
    "\n",
    "# Balanced oracle\n",
    "balanced_oracle = QuantumCircuit(2)\n",
    "balanced_oracle.cx(0, 1)\n",
    "\n",
    "# Choose the oracle you want to test\n",
    "oracle = balanced_oracle  # Change to constant_oracle to test the constant case\n",
    "\n",
    "# Create the circuit for Deutsch's algorithm\n",
    "qc = deutsch_algorithm(oracle)\n",
    "\n",
    "# Execute the circuit\n",
    "backend = Aer.get_backend('qasm_simulator')\n",
    "result = execute(qc, backend, shots=1024).result()\n",
    "counts = result.get_counts()\n",
    "\n",
    "# Plot the result\n",
    "plot_histogram(counts)\n"
   ]
  },
  {
   "cell_type": "markdown",
   "id": "7d2185f0",
   "metadata": {},
   "source": [
    "## Expanded Explanation of the Problem\n"
   ]
  },
  {
   "cell_type": "markdown",
   "id": "c4c4f36b",
   "metadata": {},
   "source": [
    "## In-depth Explanation of Deutsch’s Algorithm\n"
   ]
  },
  {
   "cell_type": "code",
   "execution_count": null,
   "id": "31e164a3",
   "metadata": {},
   "outputs": [],
   "source": [
    "# TODO: Add Qiskit code to build the quantum circuit for Deutsch's Algorithm"
   ]
  },
  {
   "cell_type": "code",
   "execution_count": null,
   "id": "8eb7bc6a",
   "metadata": {},
   "outputs": [],
   "source": [
    "# TODO: Add code to simulate the circuit and demonstrate the algorithm"
   ]
  }
 ],
 "metadata": {
  "kernelspec": {
   "display_name": "base",
   "language": "python",
   "name": "python3"
  },
  "language_info": {
   "codemirror_mode": {
    "name": "ipython",
    "version": 3
   },
   "file_extension": ".py",
   "mimetype": "text/x-python",
   "name": "python",
   "nbconvert_exporter": "python",
   "pygments_lexer": "ipython3",
   "version": "3.11.5"
  }
 },
 "nbformat": 4,
 "nbformat_minor": 5
}
