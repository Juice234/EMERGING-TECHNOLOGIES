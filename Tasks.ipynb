{
 "cells": [
  {
   "cell_type": "code",
   "execution_count": null,
   "metadata": {},
   "outputs": [],
   "source": []
  },
  {
   "cell_type": "code",
   "execution_count": 12,
   "metadata": {},
   "outputs": [
    {
     "name": "stdout",
     "output_type": "stream",
     "text": [
      "Collatz conjecture is verified for the first 10000 positive integers.\n"
     ]
    }
   ],
   "source": [
    "def collatz_sequence(x):\n",
    "    while x != 1:\n",
    "\n",
    "        if x % 2 == 0: # Number is even\n",
    "            x = x // 2 # Divide to a whole number\n",
    "        else:\n",
    "            x = 3 * x + 1\n",
    "    return x  # When x becomes 1, the sequence terminates\n",
    "\n",
    "def verify_collatz_conjecture(limit):\n",
    "    for i in range(1, limit + 1):\n",
    "        result = collatz_sequence(i)\n",
    "        if result != 1:\n",
    "            print(f\"Collatz conjecture is not satisfied for {i}.\")\n",
    "            break\n",
    "    else:\n",
    "        print(\"Collatz conjecture is verified for the first\", limit, \"positive integers.\")\n",
    "\n",
    "\n",
    "verify_collatz_conjecture(10000)\n",
    "\n"
   ]
  },
  {
   "cell_type": "code",
   "execution_count": 5,
   "metadata": {},
   "outputs": [
    {
     "name": "stdout",
     "output_type": "stream",
     "text": [
      "Approximate square root of -16.0 is 4.0\n"
     ]
    }
   ],
   "source": [
    "def square_root(x):\n",
    "\n",
    "    # Turn number positive if negative\n",
    "    if x < 0:\n",
    "        x = -x\n",
    "   \n",
    "    # Initial guess for z0\n",
    "    z0 = 1.0\n",
    "    \n",
    "    # Suggested threshold\n",
    "    threshold = 0.01\n",
    "    \n",
    "    # Complete formula\n",
    "    while abs(z0 * z0 - x) >= threshold:\n",
    "        z0 = (z0 + x / z0) // 2.0\n",
    "    \n",
    "    # Return sqaure root \n",
    "    return  z0  \n",
    "\n",
    "x = -16.0  \n",
    "approximate_sqrt = square_root(x)\n",
    "print(f\"Approximate square root of {x} is {approximate_sqrt}\")\n",
    "\n",
    "\n"
   ]
  }
 ],
 "metadata": {
  "kernelspec": {
   "display_name": "base",
   "language": "python",
   "name": "python3"
  },
  "language_info": {
   "codemirror_mode": {
    "name": "ipython",
    "version": 3
   },
   "file_extension": ".py",
   "mimetype": "text/x-python",
   "name": "python",
   "nbconvert_exporter": "python",
   "pygments_lexer": "ipython3",
   "version": "3.10.13"
  },
  "orig_nbformat": 4
 },
 "nbformat": 4,
 "nbformat_minor": 2
}
